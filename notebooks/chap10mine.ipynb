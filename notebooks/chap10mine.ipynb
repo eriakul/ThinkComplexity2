{
 "cells": [
  {
   "cell_type": "markdown",
   "metadata": {},
   "source": [
    "# Flocks, Herds, and Traffic Jams\n",
    "\n",
    "Code examples from [Think Complexity, 2nd edition](https://thinkcomplex.com).\n",
    "\n",
    "Copyright 2016 Allen Downey, [MIT License](http://opensource.org/licenses/MIT)"
   ]
  },
  {
   "cell_type": "code",
   "execution_count": 11,
   "metadata": {},
   "outputs": [],
   "source": [
    "%matplotlib inline\n",
    "\n",
    "import matplotlib.pyplot as plt\n",
    "import numpy as np\n",
    "import seaborn as sns\n",
    "\n",
    "from utils import decorate, savefig"
   ]
  },
  {
   "cell_type": "markdown",
   "metadata": {},
   "source": [
    "Here's the `Driver` class from Chapter 10."
   ]
  },
  {
   "cell_type": "code",
   "execution_count": 12,
   "metadata": {},
   "outputs": [],
   "source": [
    "class Driver:\n",
    "    \n",
    "    def __init__(self, loc, speed=4):\n",
    "        \"\"\"Initialize the attributes.\n",
    "        \n",
    "        loc: position on track, in miles\n",
    "        speed: speed in miles per hour\n",
    "        \"\"\"\n",
    "        self.start = loc\n",
    "        self.loc = loc\n",
    "        self.speed = speed\n",
    "        \n",
    "    def choose_acceleration(self, dist):\n",
    "        \"\"\"Chooses acceleration based on distance.\n",
    "        \n",
    "        dist: distance from the car in front\n",
    "        \n",
    "        returns: acceleration\n",
    "        \"\"\"\n",
    "        return 1\n",
    "        \n",
    "    def set_odometer(self):\n",
    "        self.start = self.loc\n",
    "        \n",
    "    def read_odometer(self):\n",
    "        return self.loc - self.start"
   ]
  },
  {
   "cell_type": "markdown",
   "metadata": {},
   "source": [
    "And the Highway."
   ]
  },
  {
   "cell_type": "code",
   "execution_count": 16,
   "metadata": {},
   "outputs": [],
   "source": [
    "from Cell2D import Cell2D\n",
    "\n",
    "class Highway(Cell2D):\n",
    "    \n",
    "    max_acc = 1\n",
    "    min_acc = -10\n",
    "    speed_limit = 40\n",
    "    \n",
    "    def __init__(self, n=10, length=1000, eps=0, constructor=Driver):\n",
    "        \"\"\"Initializes the attributes.\n",
    "        \n",
    "        n: number of drivers\n",
    "        length: length of the track\n",
    "        eps: variability in speed\n",
    "        constructor: function used to instantiate drivers\n",
    "        \"\"\"\n",
    "        self.length = length\n",
    "        self.eps = eps\n",
    "        self.crashes = 0\n",
    "\n",
    "        # create the drivers\n",
    "        locs = np.linspace(0, length, n, endpoint=False)\n",
    "        self.drivers = [constructor(loc) for loc in locs]\n",
    "        \n",
    "        # and link them up\n",
    "        for i in range(n):\n",
    "            j = (i+1) % n\n",
    "            self.drivers[i].next = self.drivers[j]\n",
    "            \n",
    "    def step(self):\n",
    "        \"\"\"Performs one time step.\"\"\"\n",
    "        for driver in self.drivers:\n",
    "            self.move(driver)\n",
    "            \n",
    "    def move(self, driver):\n",
    "        \"\"\"Updates `driver`.\n",
    "        \n",
    "        driver: Driver object\n",
    "        \"\"\"\n",
    "        # get the distance to the next driver\n",
    "        dist = self.distance(driver)\n",
    "\n",
    "        # let the driver choose acceleration\n",
    "        acc = driver.choose_acceleration(dist)\n",
    "        acc = min(acc, self.max_acc)\n",
    "        acc = max(acc, self.min_acc)\n",
    "        speed = driver.speed + acc\n",
    "            \n",
    "        # add random noise to speed\n",
    "        speed *= np.random.uniform(1-self.eps, 1+self.eps)\n",
    "        \n",
    "        # keep it nonnegative and under the speed limit\n",
    "        speed = max(speed, 0)\n",
    "        speed = min(speed, self.speed_limit)\n",
    "        \n",
    "        # if current speed would collide with next driver, stop\n",
    "        if speed > dist:\n",
    "            speed = 0\n",
    "            self.crashes += 1\n",
    "            \n",
    "        # update speed and loc\n",
    "        driver.speed = speed\n",
    "        driver.loc += speed\n",
    "            \n",
    "    def distance(self, driver):\n",
    "        \"\"\"Distance from `driver` to next driver.\n",
    "        \n",
    "        driver: Driver object\n",
    "        \"\"\"\n",
    "        dist = driver.next.loc - driver.loc\n",
    "        # fix wraparound\n",
    "        if dist < 0:\n",
    "            dist += self.length\n",
    "        return dist\n",
    "    \n",
    "    def set_odometers(self):\n",
    "        return [driver.set_odometer()\n",
    "                for driver in self.drivers] \n",
    "    \n",
    "    def read_odometers(self):\n",
    "        return np.mean([driver.read_odometer()\n",
    "                        for driver in self.drivers])\n",
    "    \n",
    "    def draw(self):\n",
    "        \"\"\"Draws the drivers and shows collisions.\n",
    "        \"\"\"\n",
    "        drivers = self.drivers\n",
    "        xs, ys = self.get_coords(drivers)\n",
    "        plt.plot(xs, ys, 'bs', markersize=10, alpha=0.7)\n",
    "        \n",
    "        stopped = [driver for driver in self.drivers \n",
    "                  if driver.speed==0]\n",
    "        xs, ys = self.get_coords(stopped, r=0.8)\n",
    "        plt.plot(xs, ys, 'r^', markersize=12, alpha=0.7)\n",
    "        \n",
    "        plt.axis('off')\n",
    "        plt.axis('equal')\n",
    "        plt.xlim([-1.05, 1.05])\n",
    "        plt.ylim([-1.05, 1.05])\n",
    "\n",
    "    def get_coords(self, drivers, r=1):\n",
    "        \"\"\"Gets the coordinates of the drivers.\n",
    "        \n",
    "        Transforms from (row, col) to (x, y).\n",
    "        \n",
    "        drivers: sequence of Driver\n",
    "        r: radius of the circle\n",
    "        \n",
    "        returns: tuple of sequences, (xs, ys)\n",
    "        \"\"\"\n",
    "        locs = np.array([driver.loc for driver in drivers])\n",
    "        locs *= 2 * np.pi / self.length\n",
    "        xs = r * np.cos(locs)\n",
    "        ys = r * np.sin(locs)\n",
    "        return xs, ys"
   ]
  },
  {
   "cell_type": "markdown",
   "metadata": {},
   "source": [
    "Make the animation:"
   ]
  },
  {
   "cell_type": "code",
   "execution_count": 17,
   "metadata": {},
   "outputs": [
    {
     "data": {
      "image/png": "[encoded data removed]",
      "text/plain": [
       "<Figure size 432x288 with 1 Axes>"
      ]
     },
     "metadata": {
      "needs_background": "light"
     },
     "output_type": "display_data"
    }
   ],
   "source": [
    "highway = Highway(30, eps=0.02)\n",
    "highway.animate(frames=50, interval=0.2)"
   ]
  },
  {
   "cell_type": "markdown",
   "metadata": {},
   "source": [
    "And generate the figure:"
   ]
  },
  {
   "cell_type": "code",
   "execution_count": 15,
   "metadata": {},
   "outputs": [
    {
     "name": "stdout",
     "output_type": "stream",
     "text": [
      "Saving figure to file figs/chap10-1\n"
     ]
    },
    {
     "data": {
      "image/png": "[encoded data removed]",
      "text/plain": [
       "<Figure size 720x288 with 3 Axes>"
      ]
     },
     "metadata": {
      "needs_background": "light"
     },
     "output_type": "display_data"
    }
   ],
   "source": [
    "from utils import three_frame\n",
    "\n",
    "highway = Highway(30, eps=0.02)\n",
    "three_frame(highway, [16, 1, 1], seed=22)\n",
    "savefig('figs/chap10-1')"
   ]
  },
  {
   "cell_type": "markdown",
   "metadata": {},
   "source": [
    "Explore the relationship between `eps` and average speed."
   ]
  },
  {
   "cell_type": "code",
   "execution_count": 90,
   "metadata": {},
   "outputs": [],
   "source": [
    "def run_simulation(eps, constructor=Driver, iters=100):\n",
    "    res = []\n",
    "    for n in range(5, 100, 5):\n",
    "        highway = Highway(n, eps=eps, constructor=constructor)\n",
    "        for i in range(iters):\n",
    "            highway.step()\n",
    "\n",
    "        highway.set_odometers()\n",
    "        for i in range(iters):\n",
    "            highway.step()\n",
    "\n",
    "        res.append((n, highway.read_odometers() / iters))\n",
    "    \n",
    "    return np.transpose(res)"
   ]
  },
  {
   "cell_type": "markdown",
   "metadata": {},
   "source": [
    "Generate the figure:"
   ]
  },
  {
   "cell_type": "code",
   "execution_count": 91,
   "metadata": {},
   "outputs": [
    {
     "name": "stdout",
     "output_type": "stream",
     "text": [
      "Saving figure to file figs/chap10-2\n"
     ]
    },
    {
     "data": {
      "image/png": "[encoded data removed]",
      "text/plain": [
       "<Figure size 432x288 with 1 Axes>"
      ]
     },
     "metadata": {
      "needs_background": "light"
     },
     "output_type": "display_data"
    }
   ],
   "source": [
    "np.random.seed(20)\n",
    "from utils import set_palette\n",
    "set_palette('Blues', 4, reverse=True)\n",
    "\n",
    "for eps in [0.0, 0.001, 0.01]:\n",
    "    xs, ys = run_simulation(eps)\n",
    "    plt.plot(xs, ys, label='eps=%g' % eps)\n",
    "    \n",
    "decorate(xlabel='Number of cars',\n",
    "                 ylabel='Average speed',\n",
    "                 xlim=[0, 100], ylim=[0, 42])\n",
    "\n",
    "savefig('figs/chap10-2')"
   ]
  },
  {
   "cell_type": "markdown",
   "metadata": {},
   "source": [
    "**Exercise:** In the traffic jam simulation, define a class, `BetterDriver`,\n",
    "that inherits from `Driver` and overrides `choose_acceleration`.\n",
    "See if you can define driving rules that do better than the basic\n",
    "implementation in `Driver`.  You might try to achieve higher\n",
    "average speed, or a lower number of collisions."
   ]
  },
  {
   "cell_type": "code",
   "execution_count": 92,
   "metadata": {},
   "outputs": [],
   "source": [
    "# Here's a first attempt\n",
    "\n",
    "class BetterDriver(Driver):\n",
    "    \n",
    "    def choose_acceleration(self, d):\n",
    "        threshold = 20\n",
    "        factor = .01\n",
    "#         if d > threshold:\n",
    "#             return 1\n",
    "        acc = factor*(d-threshold)\n",
    "        return acc"
   ]
  },
  {
   "cell_type": "code",
   "execution_count": 93,
   "metadata": {},
   "outputs": [
    {
     "data": {
      "image/png": "[encoded data removed]",
      "text/plain": [
       "<Figure size 432x288 with 1 Axes>"
      ]
     },
     "metadata": {
      "needs_background": "light"
     },
     "output_type": "display_data"
    }
   ],
   "source": [
    "highway = Highway(100, eps=0.0, constructor=BetterDriver)\n",
    "highway.animate(30)"
   ]
  },
  {
   "cell_type": "code",
   "execution_count": null,
   "metadata": {},
   "outputs": [
    {
     "name": "stdout",
     "output_type": "stream",
     "text": [
      "30 0.0001 109.60606520066321\n",
      "30 0.001 109.60606520066321\n",
      "30 0.01 109.60606520066321\n",
      "30 0.1 109.60606520066321\n",
      "35 0.0001 109.60606520066321\n",
      "35 0.001 109.60606520066321\n",
      "35 0.01 109.60606520066321\n",
      "35 0.1 109.60606520066321\n",
      "40 0.0001 109.60606520066321\n",
      "40 0.001 109.60606520066321\n",
      "40 0.01 109.60606520066321\n",
      "40 0.1 109.60606520066321\n",
      "45 0.0001 109.60606520066321\n",
      "45 0.001 109.60606520066321\n",
      "45 0.01 109.60606520066321\n",
      "45 0.1 109.60606520066321\n",
      "50 0.0001 109.60606520066321\n",
      "50 0.001 109.60606520066321\n",
      "50 0.01 109.60606520066321\n",
      "50 0.1 109.60606520066321\n",
      "55 0.0001 109.60606520066321\n",
      "55 0.001 109.60606520066321\n",
      "55 0.01 109.60606520066321\n",
      "55 0.1 109.60606520066321\n",
      "60 0.0001 109.60606520066321\n",
      "60 0.001 109.60606520066321\n",
      "60 0.01 109.60606520066321\n",
      "60 0.1 109.60606520066321\n",
      "65 0.0001 109.60606520066321\n",
      "65 0.001 109.60606520066321\n",
      "65 0.01 109.60606520066321\n",
      "65 0.1 109.60606520066321\n",
      "70 0.0001 109.60606520066321\n",
      "70 0.001 109.60606520066321\n",
      "70 0.01 109.60606520066321\n",
      "70 0.1 109.60606520066321\n",
      "75 0.0001 109.60606520066321\n",
      "75 0.001 109.60606520066321\n",
      "75 0.01 109.60606520066321\n",
      "75 0.1 109.60606520066321\n",
      "80 0.0001 109.60606520066321\n",
      "80 0.001 109.60606520066321\n",
      "80 0.01 109.60606520066321\n",
      "80 0.1 109.60606520066321\n",
      "85 0.0001 109.60606520066321\n",
      "85 0.001 109.60606520066321\n",
      "85 0.01 109.60606520066321\n",
      "85 0.1 109.60606520066321\n",
      "90 0.0001 109.60606520066321\n",
      "90 0.001 109.60606520066321\n",
      "90 0.01 109.60606520066321\n",
      "90 0.1 109.60606520066321\n",
      "95 0.0001 109.60606520066321\n",
      "95 0.001 109.60606520066321\n",
      "95 0.01 109.60606520066321\n",
      "95 0.1 109.60606520066321\n",
      "100 0.0001 109.60606520066321\n",
      "100 0.001 109.60606520066321\n",
      "100 0.01 109.60606520066321\n",
      "100 0.1 109.60606520066321\n",
      "105 0.0001 109.60606520066321\n",
      "105 0.001 109.60606520066321\n",
      "105 0.01 109.60606520066321\n",
      "105 0.1 109.60606520066321\n",
      "110 0.0001 109.60606520066321\n",
      "110 0.001 109.60606520066321\n",
      "110 0.01 109.60606520066321\n",
      "110 0.1 109.60606520066321\n",
      "115 0.0001 109.60606520066321\n",
      "115 0.001 109.60606520066321\n",
      "115 0.01 109.60606520066321\n",
      "115 0.1 109.60606520066321\n",
      "120 0.0001 109.60606520066321\n",
      "120 0.001 109.60606520066321\n",
      "120 0.01 109.60606520066321\n",
      "120 0.1 109.60606520066321\n",
      "125 0.0001 109.60606520066321\n",
      "125 0.001 109.60606520066321\n",
      "125 0.01 109.60606520066321\n",
      "125 0.1 109.60606520066321\n",
      "130 0.0001 109.60606520066321\n",
      "130 0.001 109.60606520066321\n",
      "130 0.01 109.60606520066321\n",
      "130 0.1 109.60606520066321\n",
      "135 0.0001 109.60606520066321\n",
      "135 0.001 109.60606520066321\n",
      "135 0.01 109.60606520066321\n",
      "135 0.1 109.60606520066321\n",
      "140 0.0001 109.60606520066321\n",
      "140 0.001 109.60606520066321\n",
      "140 0.01 109.60606520066321\n",
      "140 0.1 109.60606520066321\n",
      "145 0.0001 109.60606520066321\n",
      "145 0.001 109.60606520066321\n",
      "145 0.01 109.60606520066321\n",
      "145 0.1 109.60606520066321\n",
      "150 0.0001 109.60606520066321\n",
      "150 0.001 109.60606520066321\n",
      "150 0.01 109.60606520066321\n"
     ]
    }
   ],
   "source": [
    "for threshold in range(30,200, 5):\n",
    "    for factor in [.0001, .001, .01, .1]:\n",
    "        xs, ys = run_simulation(eps=0.0, constructor=BetterDriver)\n",
    "        print(threshold, factor ,sum(ys))\n",
    "   \n",
    "    \n"
   ]
  },
  {
   "cell_type": "code",
   "execution_count": null,
   "metadata": {},
   "outputs": [],
   "source": [
    "for constructor in [Driver, BetterDriver]:\n",
    "    xs, ys = run_simulation(eps=0.0, constructor=constructor)\n",
    "    plt.plot(xs, ys, label=constructor.__name__)\n",
    "    \n",
    "decorate(xlabel='Number of cars',\n",
    "                 ylabel='Average speed',\n",
    "                 xlim=[0, 100], ylim=[0, 42])"
   ]
  },
  {
   "cell_type": "code",
   "execution_count": null,
   "metadata": {},
   "outputs": [],
   "source": []
  },
  {
   "cell_type": "code",
   "execution_count": null,
   "metadata": {},
   "outputs": [],
   "source": []
  },
  {
   "cell_type": "code",
   "execution_count": null,
   "metadata": {},
   "outputs": [],
   "source": []
  }
 ],
 "metadata": {
  "kernelspec": {
   "display_name": "Python 3",
   "language": "python",
   "name": "python3"
  },
  "language_info": {
   "codemirror_mode": {
    "name": "ipython",
    "version": 3
   },
   "file_extension": ".py",
   "mimetype": "text/x-python",
   "name": "python",
   "nbconvert_exporter": "python",
   "pygments_lexer": "ipython3",
   "version": "3.7.3"
  }
 },
 "nbformat": 4,
 "nbformat_minor": 2
}
